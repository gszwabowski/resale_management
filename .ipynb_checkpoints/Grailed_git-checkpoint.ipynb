{
 "cells": [
  {
   "cell_type": "code",
   "execution_count": null,
   "id": "f3a63fbc",
   "metadata": {},
   "outputs": [],
   "source": [
    "import selenium\n",
    "from selenium import webdriver\n",
    "from selenium.webdriver.common.by import By\n",
    "from selenium.webdriver.chrome.service import Service\n",
    "from selenium.webdriver.support.ui import WebDriverWait\n",
    "from selenium.webdriver.support import expected_conditions as EC\n",
    "from selenium.webdriver.common.action_chains import ActionChains\n",
    "from selenium.webdriver.chrome.options import Options \n",
    "from selenium.webdriver.common.keys import Keys\n",
    "from bs4 import BeautifulSoup\n",
    "import codecs\n",
    "import re\n",
    "from webdriver_manager.chrome import ChromeDriverManager\n",
    "from io import StringIO\n",
    "from bs4 import BeautifulSoup\n",
    "import base64\n",
    "from PIL import Image\n",
    "from io import BytesIO\n",
    "import contextlib\n",
    "from selenium.common.exceptions import InvalidArgumentException\n",
    "import time\n",
    "import pandas as pd\n",
    "import math\n",
    "pd.set_option('display.max_rows', 1000)\n",
    "import undetected_chromedriver as uc\n",
    "\n",
    "# ignore warnings\n",
    "pd.options.mode.chained_assignment = None"
   ]
  },
  {
   "cell_type": "code",
   "execution_count": null,
   "id": "029cfced",
   "metadata": {},
   "outputs": [],
   "source": [
    "def start_driver():\n",
    "    driver = uc.Chrome(use_subprocess=True, version_main=134)\n",
    "    driver.execute_script(\"Object.defineProperty(navigator, 'webdriver', {get: () => undefined})\")\n",
    "    driver.maximize_window()\n",
    "    return driver"
   ]
  },
  {
   "cell_type": "code",
   "execution_count": null,
   "id": "3917bdc0",
   "metadata": {},
   "outputs": [],
   "source": [
    "driver = start_driver()"
   ]
  },
  {
   "cell_type": "markdown",
   "id": "c761af6a",
   "metadata": {},
   "source": [
    "# Log In"
   ]
  },
  {
   "cell_type": "code",
   "execution_count": null,
   "id": "6df28c9b",
   "metadata": {},
   "outputs": [],
   "source": [
    "# go to grailed login page\n",
    "driver.get('https://www.grailed.com/')\n",
    "\n",
    "# click login button\n",
    "WebDriverWait(driver, 5).until(EC.presence_of_element_located((By.XPATH, '//*[@id=\"global-header-login-btn\"]'))).click()"
   ]
  },
  {
   "cell_type": "code",
   "execution_count": null,
   "id": "334df564-a4f7-4cae-afa4-cb26a3c486f2",
   "metadata": {},
   "outputs": [],
   "source": [
    "# click login with email\n",
    "WebDriverWait(driver, 5).until(EC.presence_of_element_located((By.XPATH, '//*[@data-cy=\"login-with-email\"]'))).click()"
   ]
  },
  {
   "cell_type": "code",
   "execution_count": null,
   "id": "be795a16",
   "metadata": {},
   "outputs": [],
   "source": [
    "# define username and password\n",
    "username='username'\n",
    "password='password'\n",
    "\n",
    "# enter username and password\n",
    "driver.find_element(By.XPATH, '//*[@id=\"email\"]').send_keys(username)\n",
    "driver.find_element(By.XPATH, '//*[@id=\"password\"]').send_keys(password)"
   ]
  },
  {
   "cell_type": "code",
   "execution_count": null,
   "id": "1112bda9",
   "metadata": {},
   "outputs": [],
   "source": [
    "# click log in button\n",
    "WebDriverWait(driver, 5).until(EC.presence_of_element_located((By.XPATH, '//*[@data-cy=\"auth-login-submit\"]'))).click()"
   ]
  },
  {
   "cell_type": "markdown",
   "id": "2d4c9e3b",
   "metadata": {},
   "source": [
    "# Get Current Products"
   ]
  },
  {
   "cell_type": "code",
   "execution_count": null,
   "id": "fe44359d",
   "metadata": {
    "scrolled": true
   },
   "outputs": [],
   "source": [
    "# go to active listings\n",
    "driver.get('https://www.grailed.com/sell/for-sale')"
   ]
  },
  {
   "cell_type": "code",
   "execution_count": null,
   "id": "047ff389",
   "metadata": {},
   "outputs": [],
   "source": [
    "# scroll down to bottom while allowing time for products to load\n",
    "curr_scrollheight = driver.execute_script(\"return document.documentElement.scrollHeight\")\n",
    "for i in range(0,100):\n",
    "    page = driver.find_element(\"tag name\",\"html\")\n",
    "    page.send_keys(Keys.END)\n",
    "    time.sleep(2)\n",
    "    new_scrollheight = driver.execute_script(\"return document.documentElement.scrollHeight\")\n",
    "    if new_scrollheight != curr_scrollheight:\n",
    "        curr_scrollheight = new_scrollheight\n",
    "    else:\n",
    "        break"
   ]
  },
  {
   "cell_type": "code",
   "execution_count": null,
   "id": "359ae939",
   "metadata": {},
   "outputs": [],
   "source": [
    "page_source = driver.page_source\n",
    "soup = BeautifulSoup(page_source, 'lxml')"
   ]
  },
  {
   "cell_type": "code",
   "execution_count": null,
   "id": "7e04a5b7",
   "metadata": {},
   "outputs": [],
   "source": [
    "# get list of products on page\n",
    "from bs4 import BeautifulSoup\n",
    "import re\n",
    "\n",
    "# empty vectors for variable storage\n",
    "links = []\n",
    "product_names = []\n",
    "prices = []\n",
    "og_prices = []\n",
    "dates = []\n",
    "        \n",
    "# update page source\n",
    "page_source = driver.page_source\n",
    "soup = BeautifulSoup(page_source, 'lxml')\n",
    "\n",
    "# get soups\n",
    "product_soup = soup.find_all(\"p\",attrs={\"data-cy\":\"listing-title\"})\n",
    "price_soup = soup.find_all(\"div\",attrs={\"class\":\"Price_root__l_ELx\"})\n",
    "date_soup = soup.find_all(\"span\",attrs={\"class\":\"ListingAge_dateAgo__JEsJV\"})\n",
    "\n",
    "# get number of sold items, which are stored at the end of the page\n",
    "num_sold_items = len(soup.find_all(attrs={\"class\":\"icon tile__inventory-tag sold-tag\"}))\n",
    "\n",
    "# get product names and links\n",
    "for tag in product_soup:\n",
    "    p_name = re.split('title\">|</p>', str(tag))[-2]\n",
    "    product_names.append(p_name)\n",
    "\n",
    "# get prices\n",
    "for tag in price_soup:\n",
    "    tag_prices = tag.find_all('p')\n",
    "    # products whose price hasnt been dropped\n",
    "    if len(tag_prices) == 1:\n",
    "        prices.append(int(re.split('\\\\$', tag_prices[0].text)[-1]))\n",
    "        og_prices.append(int(re.split('\\\\$', tag_prices[0].text)[-1]))\n",
    "    # products w/ more than 1 price in their tag, indicating price has been dropped\n",
    "    else:\n",
    "        prices.append(int(re.split('\\\\$', tag_prices[0].text)[-1]))\n",
    "        og_prices.append(int(re.split('\\\\$', tag_prices[1].text)[-1]))\n",
    "\n",
    "# get product dates\n",
    "for tag in date_soup:\n",
    "    if \"strikeThrough\" in str(tag):\n",
    "        date = re.split('\">|<span', str(tag))[-3].replace(u'\\xa0', u' ')\n",
    "        dates.append(date)\n",
    "    else:\n",
    "        date = re.split('\">|</span>', str(tag))[-2].replace(u'\\xa0', u' ')\n",
    "        dates.append(date)\n",
    "\n",
    "# quantify dates from date strings\n",
    "dates_numeric = []\n",
    "for date in dates:\n",
    "    if 'minutes' in date:\n",
    "        date_numeric = 0\n",
    "        dates_numeric.append(date_numeric)\n",
    "    elif 'hour' in date:\n",
    "        date_numeric = 0\n",
    "        dates_numeric.append(date_numeric)\n",
    "    elif 'days' in date:\n",
    "        date_numeric = int(re.sub('[^0-9]','', date))\n",
    "        dates_numeric.append(date_numeric)\n",
    "    elif 'day' in date:\n",
    "        date_numeric = int(re.sub('[^0-9]','', date))\n",
    "        dates_numeric.append(date_numeric)\n",
    "    elif 'month' in date:\n",
    "        date_numeric = 30\n",
    "        dates_numeric.append(date_numeric)\n",
    "    elif 'minute' in date:\n",
    "        date_numeric = 0\n",
    "        dates_numeric.append(date_numeric)\n",
    "        \n",
    "#     print(date, date_numeric, len(dates_numeric))    \n",
    "\n",
    "# get link\n",
    "for a in soup.find_all('a', href=True):\n",
    "    if 'listings' in a['href']:\n",
    "        if 'edit' not in a['href']:\n",
    "            link = \"https://grailed.com/\" + a['href']\n",
    "            links.append(link)"
   ]
  },
  {
   "cell_type": "code",
   "execution_count": null,
   "id": "91a82d3d",
   "metadata": {
    "scrolled": true
   },
   "outputs": [],
   "source": [
    "for x in [product_names, prices, dates, dates_numeric, links]:\n",
    "    print(len(x))"
   ]
  },
  {
   "cell_type": "code",
   "execution_count": null,
   "id": "89bdb245",
   "metadata": {},
   "outputs": [],
   "source": [
    "# dataframe w/ prices\n",
    "dict = {'Item': product_names, 'Price': prices, 'OG Price': og_prices, 'Last Updated': dates, 'last_update_numeric': dates_numeric, 'Link': links} \n",
    "# dict = {'Item': product_names, 'Link': links, 'Price': prices} \n",
    "\n",
    "df = pd.DataFrame(dict)\n",
    "display(df)"
   ]
  },
  {
   "cell_type": "markdown",
   "id": "c6c921ae",
   "metadata": {},
   "source": [
    "# Drop Price By a Percentage"
   ]
  },
  {
   "cell_type": "code",
   "execution_count": null,
   "id": "880312f5-15cc-4b87-b4db-e07552b12fec",
   "metadata": {},
   "outputs": [],
   "source": [
    "# SET DISCOUNT AND FLOOR PRICE\n",
    "percent_discount = 10\n",
    "floor_price = 10"
   ]
  },
  {
   "cell_type": "code",
   "execution_count": null,
   "id": "202b837f",
   "metadata": {},
   "outputs": [],
   "source": [
    "# get items that haven't been updated in at least a week\n",
    "pricedrop_df = df.loc[(df['last_update_numeric'] >= 7) & (df['Price'] > floor_price)].reset_index(drop=True).drop_duplicates()"
   ]
  },
  {
   "cell_type": "code",
   "execution_count": null,
   "id": "58fa4cbe",
   "metadata": {
    "scrolled": true
   },
   "outputs": [],
   "source": [
    "pricedrop_df"
   ]
  },
  {
   "cell_type": "code",
   "execution_count": null,
   "id": "19ed4e69",
   "metadata": {},
   "outputs": [],
   "source": [
    "print('Number of items to be discounted:', str(len(pricedrop_df)))"
   ]
  },
  {
   "cell_type": "code",
   "execution_count": null,
   "id": "d6cf1610",
   "metadata": {
    "scrolled": true
   },
   "outputs": [],
   "source": [
    "# price drop loop\n",
    "for i in range(0, len(pricedrop_df)):\n",
    "    item = pricedrop_df.iloc[i,list(pricedrop_df.columns).index('Item')]\n",
    "    link = pricedrop_df.iloc[i,list(pricedrop_df.columns).index('Link')]\n",
    "    curr_price = pricedrop_df.iloc[i,list(pricedrop_df.columns).index('Price')]\n",
    "    reduced_price = curr_price - (curr_price * (percent_discount*0.01))\n",
    "    reduced_price = int(round(reduced_price, 0))\n",
    "    \n",
    "    # fix rounding issues\n",
    "    if percent_discount == 10 and reduced_price/curr_price > 0.9:\n",
    "        reduced_price = int(math.floor(0.9* curr_price))\n",
    "        \n",
    "    # if reduced_price < floor_price:\n",
    "    #     reduced_price = floor_price\n",
    "        \n",
    "    # don't waste time on products already at the floor price / don't attempt to drop prices for products whose reduced_price is greater than the current price    \n",
    "    if reduced_price >= curr_price:\n",
    "        print('Item '+ str(i+1) + ' of ' + str(len(pricedrop_df)), '('+item+')\\n', 'Old Price: '+ str(curr_price), 'New Price: '+ str(reduced_price))\n",
    "        print('Item already at or below floor price.')\n",
    "        \n",
    "    else:\n",
    "        try:\n",
    "            print('Item '+ str(i+1) + ' of ' + str(len(pricedrop_df)), '('+item+')\\n', 'Old Price: '+ str(curr_price), 'New Price: '+ str(reduced_price))\n",
    "            driver.get(link)\n",
    "            time.sleep(1)\n",
    "            driver.execute_script(\"window.scrollTo(0, 600)\")\n",
    "            time.sleep(1)\n",
    "            price_element = WebDriverWait(driver, 30).until(EC.visibility_of_element_located((By.XPATH, '//button[text()=\"Price Drop By\"]')))\n",
    "            price_element.click()\n",
    "            time.sleep(3)\n",
    "            price_input = WebDriverWait(driver, 30).until(EC.visibility_of_element_located((By.XPATH, \"//input[@placeholder='Set a new price for your item']\")))\n",
    "            price_input.send_keys(str(reduced_price))\n",
    "            pricedrop_button = WebDriverWait(driver, 20).until(EC.visibility_of_element_located((By.XPATH, \"//button[@class='Button_button__30ukX Button_large__r_Cnd Button_important__eJRlB SubmitButton_button___UVm_']\")))\n",
    "            time.sleep(1)\n",
    "            pricedrop_button.click()\n",
    "            time.sleep(1)\n",
    "        except:\n",
    "            print('Trying again for item '+ str(i+1) + ' of ' + str(len(pricedrop_df)), '('+item+')\\n', 'Old Price: '+ str(curr_price), 'New Price: '+ str(reduced_price))\n",
    "            driver.get(link)\n",
    "            time.sleep(1)\n",
    "            driver.execute_script(\"window.scrollTo(0, 600)\")\n",
    "            time.sleep(1)\n",
    "            price_element = WebDriverWait(driver, 30).until(EC.visibility_of_element_located((By.XPATH, '//button[text()=\"Price Drop By\"]')))\n",
    "            price_element.click()\n",
    "            time.sleep(3)\n",
    "            price_input = WebDriverWait(driver, 30).until(EC.visibility_of_element_located((By.XPATH, \"//input[@placeholder='Set a new price for your item']\")))\n",
    "            price_input.send_keys(str(reduced_price))\n",
    "            pricedrop_button = WebDriverWait(driver, 20).until(EC.visibility_of_element_located((By.XPATH, \"//button[@class='Button_button__30ukX Button_large__r_Cnd Button_important__eJRlB SubmitButton_button___UVm_']\")))\n",
    "            time.sleep(1)\n",
    "            pricedrop_button.click()\n",
    "            time.sleep(1)\n",
    "    \n",
    "print('Done.')\n",
    "driver.quit()"
   ]
  }
 ],
 "metadata": {
  "kernelspec": {
   "display_name": "Python 3 (ipykernel)",
   "language": "python",
   "name": "python3"
  },
  "language_info": {
   "codemirror_mode": {
    "name": "ipython",
    "version": 3
   },
   "file_extension": ".py",
   "mimetype": "text/x-python",
   "name": "python",
   "nbconvert_exporter": "python",
   "pygments_lexer": "ipython3",
   "version": "3.12.4"
  }
 },
 "nbformat": 4,
 "nbformat_minor": 5
}
