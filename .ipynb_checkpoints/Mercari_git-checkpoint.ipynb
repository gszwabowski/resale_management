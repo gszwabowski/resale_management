{
 "cells": [
  {
   "cell_type": "code",
   "execution_count": null,
   "id": "f3a63fbc",
   "metadata": {},
   "outputs": [],
   "source": [
    "import selenium\n",
    "from selenium import webdriver\n",
    "from selenium.webdriver.common.by import By\n",
    "from selenium.webdriver.chrome.service import Service\n",
    "from selenium.webdriver.support.ui import WebDriverWait\n",
    "from selenium.webdriver.support import expected_conditions as EC\n",
    "from selenium.webdriver.common.action_chains import ActionChains\n",
    "from selenium.webdriver.chrome.options import Options \n",
    "from selenium.webdriver.common.keys import Keys\n",
    "from bs4 import BeautifulSoup\n",
    "import re\n",
    "from io import StringIO\n",
    "from bs4 import BeautifulSoup\n",
    "import contextlib\n",
    "from selenium.common.exceptions import InvalidArgumentException\n",
    "import time\n",
    "import pandas as pd\n",
    "pd.set_option('display.max_rows', 1000)\n",
    "import math\n",
    "import os.path\n",
    "import pickle\n",
    "import random\n",
    "\n",
    "# ignore warnings\n",
    "pd.options.mode.chained_assignment = None\n",
    "\n",
    "import undetected_chromedriver as uc\n",
    "\n",
    "from selenium import webdriver\n",
    "from selenium.webdriver.chrome.service import Service as ChromeService\n",
    "from webdriver_manager.chrome import ChromeDriverManager\n",
    "from selenium_stealth import stealth"
   ]
  },
  {
   "cell_type": "markdown",
   "id": "c761af6a",
   "metadata": {},
   "source": [
    "# Log In"
   ]
  },
  {
   "cell_type": "code",
   "execution_count": null,
   "id": "75b53356-74b1-4cb4-a2cd-dde7fc924d48",
   "metadata": {},
   "outputs": [],
   "source": [
    "driver = uc.Chrome(use_subprocess=True)"
   ]
  },
  {
   "cell_type": "code",
   "execution_count": null,
   "id": "b94b35dd-c22d-42ea-b14f-b7e82da30428",
   "metadata": {
    "scrolled": true
   },
   "outputs": [],
   "source": [
    "driver.execute_script(\"Object.defineProperty(navigator, 'webdriver', {get: () => undefined})\")"
   ]
  },
  {
   "cell_type": "code",
   "execution_count": null,
   "id": "dfe1a544",
   "metadata": {},
   "outputs": [],
   "source": [
    "def mercari_login(driver, username, password):\n",
    "    # go to mercari login page\n",
    "    driver.get('https://www.mercari.com/login/')\n",
    "    \n",
    "    # # if cookies have been created, load them\n",
    "    # if os.path.isfile('mercari_cookies.pkl'):\n",
    "    #     cookies = pickle.load(open(\"mercari_cookies.pkl\", \"rb\"))\n",
    "    #     for cookie in cookies:\n",
    "    #         driver.add_cookie(cookie)\n",
    "    \n",
    "    # click \"got it\" cookies button if it pops up\n",
    "    try:\n",
    "        driver.find_element(By.XPATH, '//*[@id=\"truste-consent-button\"]').click()\n",
    "    except:\n",
    "        pass\n",
    "\n",
    "    # enter username and password\n",
    "    driver.find_element(By.XPATH, '//*[@id=\"__next\"]/div[1]/main/div/div/form/div[3]/input').send_keys(username)\n",
    "    driver.find_element(By.XPATH, '//*[@id=\"__next\"]/div[1]/main/div/div/form/div[6]/input').send_keys(password)\n",
    "    driver.find_element(By.XPATH, '//*[@id=\"__next\"]/div[1]/main/div/div/form/div[6]/input').send_keys(Keys.RETURN)\n",
    "\n",
    "    # click SMS login button if it pops up\n",
    "    time.sleep(1)\n",
    "    try:\n",
    "        sms_button = WebDriverWait(driver, 5).until(EC.element_to_be_clickable((By.XPATH, '//*[@data-testid=\"MFACode\"]')))\n",
    "        sms_button.click()\n",
    "        # enter SMS code\n",
    "        sms_code = input('Enter the login code sent via email/SMS: ')\n",
    "        sms_input = driver.find_element(By.XPATH, '//*[@data-testid=\"MFACode\"]')\n",
    "        sms_input.send_keys(sms_code)\n",
    "        WebDriverWait(driver, 5).until(EC.element_to_be_clickable((By.XPATH, '//*[@data-testid=\"VerifyPhoneMFAButton\"]'))).click()\n",
    "    except:\n",
    "        pass\n",
    "    \n",
    "    # click SMS login button if it pops up\n",
    "    time.sleep(1)\n",
    "    try:\n",
    "        sms_button = WebDriverWait(driver, 5).until(EC.element_to_be_clickable((By.XPATH, '//*[@data-testid=\"VerifyPhoneMFAButton\"]')))\n",
    "        sms_button.click()\n",
    "        # enter SMS code\n",
    "        sms_code = input('Enter the login code sent via email/SMS: ')\n",
    "        sms_input = driver.find_element(By.XPATH, '//*[@data-testid=\"MFACode\"]')\n",
    "        sms_input.send_keys(sms_code)\n",
    "        WebDriverWait(driver, 5).until(EC.element_to_be_clickable((By.XPATH, '//*[@data-testid=\"VerifyPhoneMFAButton\"]'))).click()\n",
    "    except:\n",
    "        pass\n",
    "    \n",
    "    \n",
    "    driver.get('https://www.mercari.com/')\n",
    "    time.sleep(2)\n",
    "    \n",
    "#     if driver.current_url == 'https://www.mercari.com/login/?login_callback=%2Fmypage%2Flistings%2Factive%2F':\n",
    "#         mercari_login(driver, username, password)\n",
    "    \n",
    "#     # dump cookies\n",
    "#     pickle.dump(driver.get_cookies(), open(\"mercari_cookies.pkl\", \"wb\"))\n"
   ]
  },
  {
   "cell_type": "code",
   "execution_count": null,
   "id": "b858fae8",
   "metadata": {
    "scrolled": true
   },
   "outputs": [],
   "source": [
    "mercari_login(driver, 'username', 'password')"
   ]
  },
  {
   "cell_type": "code",
   "execution_count": null,
   "id": "c5473f62",
   "metadata": {},
   "outputs": [],
   "source": [
    "pickle.dump(driver.get_cookies(), open(\"mercari_cookies.pkl\", \"wb\"))"
   ]
  },
  {
   "cell_type": "markdown",
   "id": "2d4c9e3b",
   "metadata": {},
   "source": [
    "# Get Current Products"
   ]
  },
  {
   "cell_type": "code",
   "execution_count": null,
   "id": "f50f7562",
   "metadata": {},
   "outputs": [],
   "source": [
    "def get_current_products(driver):\n",
    "    \n",
    "    # define BeautifulSoup as a global variable (\"tell Python that the local one is the same as the global one\")\n",
    "    global BeautifulSoup\n",
    "    \n",
    "    # go to active listings\n",
    "    driver.get('https://www.mercari.com/mypage/listings/active/')\n",
    "    \n",
    "    # click \"got it\" cookies button if it pops up\n",
    "    try:\n",
    "        driver.find_element(By.XPATH, '//*[@id=\"truste-consent-button\"]').click()\n",
    "    except:\n",
    "        pass\n",
    "    \n",
    "    # get page source\n",
    "    page_source = driver.page_source\n",
    "    soup = BeautifulSoup(page_source, 'lxml')\n",
    "    \n",
    "    # get list of products on page\n",
    "    from bs4 import BeautifulSoup\n",
    "    import re\n",
    "\n",
    "    # empty vectors for variable storage\n",
    "    links = []\n",
    "    product_names = []\n",
    "    prices = []\n",
    "    dates = []\n",
    "\n",
    "    for i in range(1, 1000):\n",
    "        try:\n",
    "            if i==1:\n",
    "                driver.get('https://www.mercari.com/mypage/listings/active/')\n",
    "                WebDriverWait(driver, 1.5).until(EC.presence_of_element_located((By.XPATH, '/html/body/div[4]/main/div/div[3]/div[2]/ul/li[1]/div/div[3]/div/div[1]/a')))\n",
    "            if i>1:\n",
    "                driver.get('https://www.mercari.com/mypage/listings/active/?page='+str(i))\n",
    "                WebDriverWait(driver, 1.5).until(EC.presence_of_element_located((By.XPATH, '/html/body/div[4]/main/div/div[3]/div[2]/ul/li[1]/div/div[3]/div/div[1]/a')))\n",
    "        except:\n",
    "            pass\n",
    "\n",
    "        # update page source\n",
    "        page_source = driver.page_source\n",
    "        soup = BeautifulSoup(page_source, 'lxml')\n",
    "\n",
    "        # if \"No results\" is present on the page and no products are found, break loop\n",
    "        if 'No items for sale' in soup.text and len(soup.find_all(attrs={\"class\":\"Link-sc-us5oxt MenuLink-sc-1k5i400 koA-DLz ehDaPW T2-sc-1pugix3 MetaColumn__T2NoWrapEllipsis-sc-18c8425f-1 dNZGZp bhVasx\"}, href=True)) == 0:\n",
    "            print('No more items left, returning variables.')\n",
    "            time.sleep(1)\n",
    "            break\n",
    "\n",
    "        else:\n",
    "            # get soups\n",
    "            product_soup = soup.find_all(attrs={\"class\" : re.compile('ListingsTable__Title')}, href=True)\n",
    "            price_soup = soup.find_all(attrs={\"name\": \"price\"})\n",
    "            date_soup = soup.find_all(\"div\", {\"class\": \"Row__RowItem-sc-499eeca5-0 hoZBfq\"})\n",
    "\n",
    "            # get product names and links\n",
    "            for tag in product_soup:\n",
    "                link = 'https://mercari.com' + tag.get('href')\n",
    "                links.append(link)\n",
    "                p_name = str(tag).split('blank\">')[-1].split('<')[0]\n",
    "                product_names.append(p_name)\n",
    "\n",
    "            # get product prices\n",
    "            price_soup = soup.find_all(attrs={\"id\":\"price\"})\n",
    "            for tag in price_soup:\n",
    "                price = float(re.split('value=\"|\"/>', str(tag))[1])\n",
    "                prices.append(price)\n",
    "\n",
    "            # get last time products were updated\n",
    "            date_soup = soup.find_all(\"td\", attrs={\"class\":\"sc-4f08e2f6-0 hoSepO\"})\n",
    "            for tag in date_soup:\n",
    "                if \"/22\" in str(tag) or \"/23\" in str(tag) or \"/24\" in str(tag) or \"/25\" in str(tag):\n",
    "                    date = str(re.split('>|</td>',str(tag))[1])\n",
    "                    dates.append(date)\n",
    "    \n",
    "    return product_names, links, prices, dates\n",
    "        "
   ]
  },
  {
   "cell_type": "code",
   "execution_count": null,
   "id": "9f1fb9c8",
   "metadata": {},
   "outputs": [],
   "source": [
    "product_names, links, prices, dates = get_current_products(driver)"
   ]
  },
  {
   "cell_type": "code",
   "execution_count": null,
   "id": "2ea8c5ac",
   "metadata": {
    "scrolled": true
   },
   "outputs": [],
   "source": [
    "for x in [product_names, links, prices, dates]:\n",
    "    print(len(x))"
   ]
  },
  {
   "cell_type": "code",
   "execution_count": null,
   "id": "8429493d",
   "metadata": {
    "scrolled": true
   },
   "outputs": [],
   "source": [
    "# dataframe w/ prices and items\n",
    "dict = {'Item': product_names, 'Link': links, 'Price': prices, 'Last Updated': dates} \n",
    "\n",
    "df = pd.DataFrame(dict)\n",
    "display(df)"
   ]
  },
  {
   "cell_type": "markdown",
   "id": "88e4b070",
   "metadata": {
    "heading_collapsed": true
   },
   "source": [
    "# Identify Listings That Were Sold on Vendoo So They Can Be Deleted From Mercari"
   ]
  },
  {
   "cell_type": "code",
   "execution_count": null,
   "id": "07e18f18",
   "metadata": {
    "hidden": true
   },
   "outputs": [],
   "source": [
    "active_df = df.copy()"
   ]
  },
  {
   "cell_type": "code",
   "execution_count": null,
   "id": "67273287",
   "metadata": {
    "hidden": true,
    "scrolled": true
   },
   "outputs": [],
   "source": [
    "active_df"
   ]
  },
  {
   "cell_type": "code",
   "execution_count": null,
   "id": "fd52c25b-91a0-48e2-8453-7f02b350af34",
   "metadata": {},
   "outputs": [],
   "source": [
    "driver.get('https://web.vendoo.co/login/')"
   ]
  },
  {
   "cell_type": "code",
   "execution_count": null,
   "id": "d4318613",
   "metadata": {
    "hidden": true
   },
   "outputs": [],
   "source": [
    "# define username and password\n",
    "username='username'\n",
    "password='password'\n",
    "\n",
    "# enter username and password\n",
    "driver.find_element(By.XPATH, '//*[@id=\"email\"]').send_keys(username)\n",
    "\n",
    "driver.find_element(By.XPATH, '//*[@id=\"password\"]').send_keys(password)\n",
    "driver.find_element(By.XPATH, '//*[@id=\"password\"]').send_keys(Keys.RETURN)"
   ]
  },
  {
   "cell_type": "code",
   "execution_count": null,
   "id": "4c74e6b2",
   "metadata": {
    "hidden": true
   },
   "outputs": [],
   "source": [
    "driver.get('https://web.vendoo.co/app?status=sold')"
   ]
  },
  {
   "cell_type": "code",
   "execution_count": null,
   "id": "55611f96",
   "metadata": {
    "hidden": true
   },
   "outputs": [],
   "source": [
    "# clear sold listing detections\n",
    "from selenium.webdriver.common.action_chains import ActionChains\n",
    "\n",
    "try:\n",
    "    element = driver.find_element(By.XPATH, '//*[@aria-label=\"Clear All Latest Detection\"]')\n",
    "    actions = ActionChains(driver)\n",
    "    actions.move_to_element(element)\n",
    "    actions.perform()\n",
    "    driver.execute_script('window.scrollBy(0, 100)')\n",
    "    element.click()\n",
    "except:\n",
    "    pass"
   ]
  },
  {
   "cell_type": "code",
   "execution_count": null,
   "id": "b99a43bc",
   "metadata": {
    "hidden": true
   },
   "outputs": [],
   "source": [
    "# scroll down to bottom while allowing time for products to load V2\n",
    "curr_scrollheight = driver.execute_script(\"return document.documentElement.scrollHeight\")\n",
    "for i in range(0,1000):\n",
    "    page = driver.find_element(\"tag name\",\"html\")\n",
    "    page.send_keys(Keys.END)\n",
    "    time.sleep(0.5)\n",
    "    new_scrollheight = driver.execute_script(\"return document.documentElement.scrollHeight\")\n",
    "    try:\n",
    "        driver.find_element(By.XPATH, \"/html/body/div[1]/div/div[1]/div/div[3]/div/div/div[1]/div[1]/div[2]/div/div/div[2]/div[1]/div/div[3]/div/div/span/div[2]/div/div\")\n",
    "    except:\n",
    "        break"
   ]
  },
  {
   "cell_type": "code",
   "execution_count": null,
   "id": "c2321690",
   "metadata": {
    "hidden": true
   },
   "outputs": [],
   "source": [
    "# change to 240 items/page\n",
    "driver.find_element(By.XPATH, '//*[@class=\"buttons__ButtonDefaultStyled-rvbg1v-10 styles__ItemsPerPageButton-wgdgzp-1 hBjREI buqMst\"]').click()\n",
    "driver.find_element(By.CSS_SELECTOR, '.EESAW > div:nth-child(4)').click()\n",
    "# driver.find_element(By.XPATH, '//*[@data-testid=\"dropdown__option__240\"]').click()"
   ]
  },
  {
   "cell_type": "code",
   "execution_count": null,
   "id": "6afb971f",
   "metadata": {
    "hidden": true
   },
   "outputs": [],
   "source": [
    "# scroll down to bottom while allowing time for products to load V2\n",
    "curr_scrollheight = driver.execute_script(\"return document.documentElement.scrollHeight\")\n",
    "for i in range(0,1000):\n",
    "    page = driver.find_element(\"tag name\",\"html\")\n",
    "    page.send_keys(Keys.END)\n",
    "    time.sleep(0.5)\n",
    "    new_scrollheight = driver.execute_script(\"return document.documentElement.scrollHeight\")\n",
    "    try:\n",
    "        driver.find_element(By.XPATH, \"/html/body/div[1]/div/div[1]/div/div[3]/div/div/div[1]/div[1]/div[2]/div/div/div[2]/div[1]/div/div[3]/div/div/span/div[2]/div/div\")\n",
    "    except:\n",
    "        break"
   ]
  },
  {
   "cell_type": "code",
   "execution_count": null,
   "id": "ec69745d",
   "metadata": {
    "hidden": true
   },
   "outputs": [],
   "source": [
    "page_source = driver.page_source\n",
    "soup = BeautifulSoup(page_source, 'lxml')"
   ]
  },
  {
   "cell_type": "code",
   "execution_count": null,
   "id": "860fbf17-712b-462f-80b2-bd748dbe31cd",
   "metadata": {},
   "outputs": [],
   "source": [
    "vendoo_df = pd.read_csv('vendoo_sold_products.csv')"
   ]
  },
  {
   "cell_type": "code",
   "execution_count": null,
   "id": "9012215e-484f-4c2b-8e6a-caae9a247d97",
   "metadata": {},
   "outputs": [],
   "source": [
    "vendoo_list = vendoo_df['product'].tolist()"
   ]
  },
  {
   "cell_type": "code",
   "execution_count": null,
   "id": "c63a7a1a",
   "metadata": {
    "hidden": true
   },
   "outputs": [],
   "source": [
    "# get sold products from Vendoo\n",
    "sold_products = []\n",
    "num_pages = int(re.split('\\n', driver.find_element(By.CLASS_NAME, 'rc-pagination').text)[-1])\n",
    "for i in range(num_pages):\n",
    "    # scroll to top\n",
    "    page = driver.find_element(\"tag name\",\"html\")\n",
    "    page.send_keys(Keys.HOME)\n",
    "    \n",
    "    time.sleep(1)\n",
    "    \n",
    "    # scroll down\n",
    "    curr_scrollheight = driver.execute_script(\"return document.documentElement.scrollHeight\")\n",
    "    for i in range(0,100):\n",
    "        page = driver.find_element(\"tag name\",\"html\")\n",
    "        page.send_keys(Keys.END)\n",
    "        time.sleep(0.5)\n",
    "        new_scrollheight = driver.execute_script(\"return document.documentElement.scrollHeight\")\n",
    "        if new_scrollheight != curr_scrollheight:\n",
    "            curr_scrollheight = new_scrollheight\n",
    "        else:\n",
    "            break\n",
    "    \n",
    "    # wait\n",
    "    time.sleep(1)\n",
    "    \n",
    "    # get products\n",
    "    page_source = driver.page_source\n",
    "    soup = BeautifulSoup(page_source, 'lxml')\n",
    "    page_product_soup = soup.find_all(\"span\",attrs={\"class\":\"styles__HighlightTextStyled-jahwfy-5 fvIvfJ\"})\n",
    "    for tag in page_product_soup:\n",
    "        # print(tag.text)\n",
    "        sold_products.append(tag.text)\n",
    "        if tag.text not in vendoo_list:\n",
    "            vendoo_list.insert(0, tag.text)\n",
    "        else:\n",
    "            print('item already in list of sold items')\n",
    "            break\n",
    "    else:\n",
    "        continue\n",
    "        print(sold_products[-1],str(len(sold_products)), '\\n')\n",
    "        page.send_keys(Keys.END)\n",
    "        r_chevron = WebDriverWait(driver, 10).until(EC.presence_of_element_located((By.XPATH, '//*[@id=\"chevron-right\"]')))\n",
    "        r_chevron.click()\n",
    "        time.sleep(1)\n",
    "    break"
   ]
  },
  {
   "cell_type": "code",
   "execution_count": null,
   "id": "524c3a08-598e-4c85-bb10-16aaead68769",
   "metadata": {},
   "outputs": [],
   "source": [
    "vendoo_df = pd.DataFrame({'product': vendoo_list})"
   ]
  },
  {
   "cell_type": "code",
   "execution_count": null,
   "id": "d7fd93fd-b9cd-454f-91aa-bb67476dd29b",
   "metadata": {},
   "outputs": [],
   "source": [
    "vendoo_df.to_csv('vendoo_sold_products.csv', index=False)"
   ]
  },
  {
   "cell_type": "code",
   "execution_count": null,
   "id": "f1855747",
   "metadata": {
    "hidden": true
   },
   "outputs": [],
   "source": [
    "# determine products that are marked as sold on Vendoo but are still active on Mercari\n",
    "soldlist = []\n",
    "for i in range(len(active_df)):\n",
    "    product_name = active_df.iloc[i,0]\n",
    "    if product_name in vendoo_list:\n",
    "        soldlist.append(product_name)\n",
    "        \n",
    "soldlist_df = pd.DataFrame({'Item':soldlist})\n",
    "soldlist_df.insert(loc = 1,column = 'Deleted',value = '<input type=\"checkbox\" />')\n",
    "soldlist_df.style"
   ]
  },
  {
   "cell_type": "markdown",
   "id": "aabfe3cc",
   "metadata": {
    "heading_collapsed": true
   },
   "source": [
    "# Get Products Again After Deleting Sold Listings"
   ]
  },
  {
   "cell_type": "code",
   "execution_count": null,
   "id": "12857a19",
   "metadata": {
    "hidden": true,
    "scrolled": true
   },
   "outputs": [],
   "source": [
    "product_names, links, prices, dates = get_current_products(driver)"
   ]
  },
  {
   "cell_type": "code",
   "execution_count": null,
   "id": "25cae354",
   "metadata": {
    "hidden": true,
    "scrolled": true
   },
   "outputs": [],
   "source": [
    "for x in [product_names, links, prices, dates]:\n",
    "    print(len(x))"
   ]
  },
  {
   "cell_type": "code",
   "execution_count": null,
   "id": "22e76ad8",
   "metadata": {
    "hidden": true,
    "scrolled": true
   },
   "outputs": [],
   "source": [
    "# dataframe w/ prices and items\n",
    "dict = {'Item': product_names, 'Link': links, 'Price': prices, 'Last Updated': dates} \n",
    "\n",
    "df = pd.DataFrame(dict)\n",
    "display(df)"
   ]
  },
  {
   "cell_type": "markdown",
   "id": "c6c921ae",
   "metadata": {
    "heading_collapsed": true
   },
   "source": [
    "# Drop Price By a Percentage"
   ]
  },
  {
   "cell_type": "code",
   "execution_count": null,
   "id": "54d7ced2",
   "metadata": {
    "hidden": true,
    "scrolled": true
   },
   "outputs": [],
   "source": [
    "from datetime import datetime\n",
    "df['Last Updated'] = pd.to_datetime(df['Last Updated'])\n",
    "df['Days Since Updating'] = (datetime.today()-df['Last Updated']).dt.days\n",
    "display(df)"
   ]
  },
  {
   "cell_type": "code",
   "execution_count": null,
   "id": "202b837f",
   "metadata": {
    "hidden": true,
    "scrolled": true
   },
   "outputs": [],
   "source": [
    "# get rid of recently updated listings\n",
    "pricedrop_df = df.loc[(df['Days Since Updating'] >= 7) ].reset_index(drop=True)\n",
    "\n",
    "# sort by price, descending\n",
    "pricedrop_df = pricedrop_df.sort_values('Price', ascending = False).reset_index(drop=True)\n",
    "\n",
    "# display dataframe of products to de price dropped\n",
    "display(pricedrop_df.loc[(pricedrop_df['Price'] > 10) ].reset_index(drop=True))"
   ]
  },
  {
   "cell_type": "code",
   "execution_count": null,
   "id": "d6cf1610",
   "metadata": {
    "hidden": true,
    "scrolled": true
   },
   "outputs": [],
   "source": [
    "def drop_prices(driver, input_df, percent_discount, floor_price):\n",
    "    input_df = input_df.loc[(input_df['Price'] > floor_price) ].reset_index(drop=True)\n",
    "    print('Number of items to be discounted:', str(len(input_df)), '\\n')\n",
    "    display(input_df)\n",
    "    for i in range(0, len(input_df)):\n",
    "        item = input_df.iloc[i,list(input_df.columns).index('Item')]\n",
    "        link = input_df.iloc[i,list(input_df.columns).index('Link')]\n",
    "        curr_price = input_df.iloc[i,list(input_df.columns).index('Price')]\n",
    "        reduced_price = curr_price - (curr_price * (percent_discount*0.01))\n",
    "        reduced_price = round(reduced_price, 2)\n",
    "        # don't drop prices below floor_price\n",
    "        if reduced_price < floor_price:\n",
    "            reduced_price = floor_price\n",
    "\n",
    "        # don't waste time on products already at the floor price    \n",
    "        if curr_price == reduced_price:\n",
    "            print('Item '+ str(i+1) + ' of ' + str(len(input_df)), '('+item+')\\n', 'Old Price: '+ str(curr_price), 'New Price: '+ str(reduced_price))\n",
    "            print('\\tItem already at floor price.')\n",
    "\n",
    "        elif curr_price < reduced_price:\n",
    "            print('Item '+ str(i+1) + ' of ' + str(len(input_df)), '('+item+')\\n', 'Old Price: '+ str(curr_price), 'New Price: '+ str(reduced_price))\n",
    "            print('\\tItem already priced below floor price.')\n",
    "\n",
    "        else:\n",
    "            print('Item '+ str(i+1) + ' of ' + str(len(input_df)), '('+item+')\\n', 'Old Price: '+ str(curr_price), 'New Price: '+ str(reduced_price))\n",
    "            driver.get(link)\n",
    "            # click \"got it\" cookies button if it pops up\n",
    "            try:\n",
    "                driver.find_element(By.XPATH, '//*[@id=\"truste-consent-button\"]').click()\n",
    "            except:\n",
    "                pass\n",
    "            time.sleep(1)\n",
    "            try:\n",
    "                price_element = WebDriverWait(driver, 20).until(EC.element_to_be_clickable((By.XPATH, '//*[@id=\"price\"]')))\n",
    "                price_element.click()\n",
    "                price_element.send_keys(Keys.CONTROL + \"a\")\n",
    "                time.sleep(1.5)\n",
    "                price_element.send_keys(Keys.DELETE)\n",
    "                time.sleep(1.5)\n",
    "                price_element.send_keys(str(reduced_price))\n",
    "                time.sleep(1.5)\n",
    "                price_element.send_keys(Keys.RETURN)\n",
    "                time.sleep(3)\n",
    "            except:\n",
    "                driver.get_screenshot_as_file('mercari_crash_' + dt.date.today().strftime('%Y-%m-%d') + '.png')\n",
    "                print('exception occurred, see generated screenshot')\n",
    "\n",
    "    print('Done.')\n",
    "    driver.quit()"
   ]
  },
  {
   "cell_type": "code",
   "execution_count": null,
   "id": "565f1cea",
   "metadata": {
    "hidden": true,
    "scrolled": true
   },
   "outputs": [],
   "source": [
    "# drop_prices(driver, input_df, percent_discount, floor_price)\n",
    "drop_prices(driver, pricedrop_df, 5, 10)"
   ]
  },
  {
   "cell_type": "code",
   "execution_count": null,
   "id": "3af20374-5686-4a5c-9f4d-f0b57f8fb356",
   "metadata": {
    "scrolled": true
   },
   "outputs": [],
   "source": [
    "pricedrop_df"
   ]
  },
  {
   "cell_type": "markdown",
   "id": "546e30a1",
   "metadata": {},
   "source": [
    "# Automate Sending Offers (XPATHs Here Likely Need To Be Updated)"
   ]
  },
  {
   "cell_type": "code",
   "execution_count": null,
   "id": "55eaf12b",
   "metadata": {},
   "outputs": [],
   "source": [
    "driver = start_driver()"
   ]
  },
  {
   "cell_type": "code",
   "execution_count": null,
   "id": "58ed7836",
   "metadata": {},
   "outputs": [],
   "source": [
    "mercari_login(driver, 'username', 'password')"
   ]
  },
  {
   "cell_type": "code",
   "execution_count": null,
   "id": "90b3d9a3",
   "metadata": {
    "scrolled": true
   },
   "outputs": [],
   "source": [
    "# go to active listings, sorted by number of likes\n",
    "driver.get('https://www.mercari.com/mypage/listings/active/?sortBy=3')"
   ]
  },
  {
   "cell_type": "code",
   "execution_count": null,
   "id": "bfc20b82",
   "metadata": {},
   "outputs": [],
   "source": [
    "page_source = driver.page_source\n",
    "soup = BeautifulSoup(page_source, 'lxml')"
   ]
  },
  {
   "cell_type": "code",
   "execution_count": null,
   "id": "d67c51d1",
   "metadata": {},
   "outputs": [],
   "source": [
    "def send_offers(driver, discount_pct, floor_price):\n",
    "    global BeautifulSoup\n",
    "    \n",
    "    # go to active listings, sorted by number of likes\n",
    "    driver.get('https://www.mercari.com/mypage/listings/active/?sortBy=3')\n",
    "\n",
    "    page_source = driver.page_source\n",
    "    soup = BeautifulSoup(page_source, 'lxml')\n",
    "\n",
    "    # get list of products on page\n",
    "    from bs4 import BeautifulSoup\n",
    "    import re\n",
    "\n",
    "    # empty vectors for variable storage\n",
    "    links = []\n",
    "    product_names = []\n",
    "    prices = []\n",
    "    dates = []\n",
    "\n",
    "    for i in range(0, 1000):\n",
    "        try:\n",
    "            if i==1:\n",
    "                driver.get('https://www.mercari.com/mypage/listings/active/?sortBy=3')\n",
    "                WebDriverWait(driver, 10).until(EC.presence_of_element_located((By.XPATH, '/html/body/div[4]/main/div/div[3]/div[2]/ul/li[1]/div/div[3]/div/div[1]/a')))\n",
    "            if i>1:\n",
    "                driver.get('https://www.mercari.com/mypage/listings/active/?sortBy=3&page='+str(i))\n",
    "                WebDriverWait(driver, 10).until(EC.presence_of_element_located((By.XPATH, '/html/body/div[4]/main/div/div[3]/div[2]/ul/li[1]/div/div[3]/div/div[1]/a')))\n",
    "        except:\n",
    "            pass\n",
    "\n",
    "        # update page source\n",
    "        page_source = driver.page_source\n",
    "        soup = BeautifulSoup(page_source, 'lxml')\n",
    "\n",
    "        # if \"No results\" is present on the page and no products are found, break loop\n",
    "        if 'No items for sale' in soup.text and len(soup.find_all(attrs={\"class\":\"Link-sc-us5oxt MenuLink-sc-1k5i400 koA-DLz ehDaPW T2-sc-1pugix3 MetaColumn__T2NoWrapEllipsis-sc-18c8425f-1 dNZGZp bhVasx\"}, href=True)) == 0:\n",
    "            print('No more items, done.')\n",
    "            break\n",
    "\n",
    "        else:\n",
    "            # get item names, prices, offer button elements, number of likers\n",
    "            itemnames = [x.text for x in driver.find_elements(By.XPATH, '//*[@data-testid=\"ItemLink\"]')]\n",
    "            prices = [float(x['value']) for x in soup.find_all(\"input\", attrs={\"name\":\"price\"})]\n",
    "            num_likers = [int(tag.text) for tag in driver.find_elements(By.XPATH, '//*[@class=\"T2-sc-1um8956 daMJEj\"]')[1::2]]\n",
    "\n",
    "            for i in range(len(itemnames)):\n",
    "                itemname = itemnames[i]\n",
    "                itemlikes = num_likers[i]\n",
    "                itemprice = prices[i]\n",
    "\n",
    "                if itemlikes > 0:\n",
    "                    time.sleep(1)\n",
    "                    offer_button = WebDriverWait(driver, 10).until(EC.presence_of_all_elements_located((By.XPATH, '//*[@data-testid=\"OfferButton\"]')))[i]\n",
    "                    driver.execute_script(\"arguments[0].scrollIntoView(true);\", offer_button)\n",
    "                    driver.execute_script(\"window.scrollBy(0, -400);\")\n",
    "                    rev_discount = 1 - (0.01 * discount_pct)\n",
    "                    reduced_price = int(math.floor(rev_discount * itemprice))\n",
    "                    if itemprice <= floor_price:\n",
    "                        print(itemname, 'is below the provided floor price. No offer sent.')\n",
    "                        pass\n",
    "                    else:\n",
    "                        offer_button.click()\n",
    "\n",
    "                        # get suggested reduced price for invalid offer cases\n",
    "                        time.sleep(1)\n",
    "                        suggested_discountprice = float(WebDriverWait(driver, 10).until(EC.element_to_be_clickable((By.XPATH, '//*[@data-testid=\"OfferToLikerInput\"]'))).get_attribute('value'))\n",
    "                        time.sleep(0.5)\n",
    "                        if reduced_price > suggested_discountprice:\n",
    "                            price_element = WebDriverWait(driver, 10).until(EC.element_to_be_clickable((By.XPATH, '//*[@name=\"offerPrice\"]')))\n",
    "                            price_element.click()\n",
    "                            price_element.send_keys(Keys.RETURN);\n",
    "                        else: \n",
    "                            price_element = WebDriverWait(driver, 10).until(EC.element_to_be_clickable((By.XPATH, '//*[@name=\"offerPrice\"]')))\n",
    "                            price_element.click()\n",
    "                            price_element.send_keys(Keys.CONTROL + \"a\");\n",
    "                            price_element.send_keys(Keys.DELETE);\n",
    "                            price_element.send_keys(str(reduced_price))\n",
    "                            price_element.send_keys(Keys.RETURN);\n",
    "                        time.sleep(2)\n",
    "\n",
    "                        # if an offer has already been sent, don't send\n",
    "                        try:\n",
    "                            # if there is an error when offering to a liker\n",
    "                            if driver.find_element(By.XPATH, '//*[@data-testid=\"OfferToLikerError\"]'):\n",
    "                                # cases where an offer needs to be lower\n",
    "                                if 'needs' in driver.find_element(By.XPATH, '//*[@data-testid=\"OfferToLikerError\"]').text:\n",
    "                                    highest_possible_offerprice = float(re.split('\\$', driver.find_element(By.XPATH, '//*[@data-testid=\"OfferToLikerError\"]').text)[-1])\n",
    "                                    price_element = WebDriverWait(driver, 10).until(EC.element_to_be_clickable((By.XPATH, '//*[@name=\"offerPrice\"]')))\n",
    "                                    price_element.click()\n",
    "                                    price_element.send_keys(Keys.CONTROL + \"a\")\n",
    "                                    price_element.send_keys(Keys.DELETE)\n",
    "                                    price_element.send_keys(str(highest_possible_offerprice))\n",
    "                                    price_element.send_keys(Keys.RETURN)\n",
    "                                    sendoffer_button = WebDriverWait(driver, 10).until(EC.element_to_be_clickable((By.XPATH, '//*[@data-testid=\"MakeAnOfferButton\"]')))\n",
    "                                    sendoffer_button.click()\n",
    "                                    print('Offer sent for', itemname + '.')\n",
    "                                    time.sleep(2)\n",
    "                                    driver.refresh()\n",
    "                                    time.sleep(2.5)\n",
    "                                # cases where an offer has already been sent\n",
    "                                else:\n",
    "                                    ActionChains(driver).send_keys(Keys.ESCAPE).perform()\n",
    "                                    print('Offer has already been sent for', itemname + ' within the past 24 hours.')\n",
    "                        # otherwise, send offer\n",
    "                        except:\n",
    "                            sendoffer_button = WebDriverWait(driver, 10).until(EC.element_to_be_clickable((By.XPATH, '//*[@data-testid=\"MakeAnOfferButton\"]')))\n",
    "                            sendoffer_button.click()\n",
    "                            print('Offer sent for', itemname + '.')\n",
    "                            time.sleep(2.5)\n",
    "                            driver.refresh()\n",
    "                            time.sleep(2.5)\n",
    "                else:\n",
    "                    print('No items with likers on this page.')\n",
    "                    break"
   ]
  },
  {
   "cell_type": "code",
   "execution_count": null,
   "id": "f49e9294",
   "metadata": {},
   "outputs": [],
   "source": [
    "# change i to start at page 5, try again. last error resulted from what mercari says is an item with no likes but it does have likes"
   ]
  },
  {
   "cell_type": "code",
   "execution_count": null,
   "id": "75e9bef4",
   "metadata": {
    "scrolled": true
   },
   "outputs": [
    {
     "ename": "TimeoutException",
     "evalue": "Message: \nStacktrace:\n\tGetHandleVerifier [0x00007FF608FDEEA2+31554]\n\t(No symbol) [0x00007FF608F57ED9]\n\t(No symbol) [0x00007FF608E1872A]\n\t(No symbol) [0x00007FF608E68434]\n\t(No symbol) [0x00007FF608E6853C]\n\t(No symbol) [0x00007FF608EAF6A7]\n\t(No symbol) [0x00007FF608E8D06F]\n\t(No symbol) [0x00007FF608EAC977]\n\t(No symbol) [0x00007FF608E8CDD3]\n\t(No symbol) [0x00007FF608E5A33B]\n\t(No symbol) [0x00007FF608E5AED1]\n\tGetHandleVerifier [0x00007FF6092E8B1D+3217341]\n\tGetHandleVerifier [0x00007FF609335AE3+3532675]\n\tGetHandleVerifier [0x00007FF60932B0E0+3489152]\n\tGetHandleVerifier [0x00007FF60908E776+750614]\n\t(No symbol) [0x00007FF608F6375F]\n\t(No symbol) [0x00007FF608F5EB14]\n\t(No symbol) [0x00007FF608F5ECA2]\n\t(No symbol) [0x00007FF608F4E16F]\n\tBaseThreadInitThunk [0x00007FFADD7A7374+20]\n\tRtlUserThreadStart [0x00007FFADDF1CC91+33]\n",
     "output_type": "error",
     "traceback": [
      "\u001b[1;31m---------------------------------------------------------------------------\u001b[0m",
      "\u001b[1;31mTimeoutException\u001b[0m                          Traceback (most recent call last)",
      "Cell \u001b[1;32mIn[85], line 1\u001b[0m\n\u001b[1;32m----> 1\u001b[0m \u001b[43msend_offers\u001b[49m\u001b[43m(\u001b[49m\u001b[43mdriver\u001b[49m\u001b[43m,\u001b[49m\u001b[43m \u001b[49m\u001b[38;5;241;43m15\u001b[39;49m\u001b[43m,\u001b[49m\u001b[43m \u001b[49m\u001b[38;5;241;43m10\u001b[39;49m\u001b[43m)\u001b[49m\n",
      "Cell \u001b[1;32mIn[83], line 66\u001b[0m, in \u001b[0;36msend_offers\u001b[1;34m(driver, discount_pct, floor_price)\u001b[0m\n\u001b[0;32m     64\u001b[0m \u001b[38;5;66;03m# get suggested reduced price for invalid offer cases\u001b[39;00m\n\u001b[0;32m     65\u001b[0m time\u001b[38;5;241m.\u001b[39msleep(\u001b[38;5;241m1\u001b[39m)\n\u001b[1;32m---> 66\u001b[0m suggested_discountprice \u001b[38;5;241m=\u001b[39m \u001b[38;5;28mfloat\u001b[39m(\u001b[43mWebDriverWait\u001b[49m\u001b[43m(\u001b[49m\u001b[43mdriver\u001b[49m\u001b[43m,\u001b[49m\u001b[43m \u001b[49m\u001b[38;5;241;43m10\u001b[39;49m\u001b[43m)\u001b[49m\u001b[38;5;241;43m.\u001b[39;49m\u001b[43muntil\u001b[49m\u001b[43m(\u001b[49m\u001b[43mEC\u001b[49m\u001b[38;5;241;43m.\u001b[39;49m\u001b[43melement_to_be_clickable\u001b[49m\u001b[43m(\u001b[49m\u001b[43m(\u001b[49m\u001b[43mBy\u001b[49m\u001b[38;5;241;43m.\u001b[39;49m\u001b[43mXPATH\u001b[49m\u001b[43m,\u001b[49m\u001b[43m \u001b[49m\u001b[38;5;124;43m'\u001b[39;49m\u001b[38;5;124;43m//*[@data-testid=\u001b[39;49m\u001b[38;5;124;43m\"\u001b[39;49m\u001b[38;5;124;43mOfferToLikerInput\u001b[39;49m\u001b[38;5;124;43m\"\u001b[39;49m\u001b[38;5;124;43m]\u001b[39;49m\u001b[38;5;124;43m'\u001b[39;49m\u001b[43m)\u001b[49m\u001b[43m)\u001b[49m\u001b[43m)\u001b[49m\u001b[38;5;241m.\u001b[39mget_attribute(\u001b[38;5;124m'\u001b[39m\u001b[38;5;124mvalue\u001b[39m\u001b[38;5;124m'\u001b[39m))\n\u001b[0;32m     67\u001b[0m time\u001b[38;5;241m.\u001b[39msleep(\u001b[38;5;241m0.5\u001b[39m)\n\u001b[0;32m     68\u001b[0m \u001b[38;5;28;01mif\u001b[39;00m reduced_price \u001b[38;5;241m>\u001b[39m suggested_discountprice:\n",
      "File \u001b[1;32m~\\anaconda3\\lib\\site-packages\\selenium\\webdriver\\support\\wait.py:95\u001b[0m, in \u001b[0;36mWebDriverWait.until\u001b[1;34m(self, method, message)\u001b[0m\n\u001b[0;32m     93\u001b[0m     \u001b[38;5;28;01mif\u001b[39;00m time\u001b[38;5;241m.\u001b[39mmonotonic() \u001b[38;5;241m>\u001b[39m end_time:\n\u001b[0;32m     94\u001b[0m         \u001b[38;5;28;01mbreak\u001b[39;00m\n\u001b[1;32m---> 95\u001b[0m \u001b[38;5;28;01mraise\u001b[39;00m TimeoutException(message, screen, stacktrace)\n",
      "\u001b[1;31mTimeoutException\u001b[0m: Message: \nStacktrace:\n\tGetHandleVerifier [0x00007FF608FDEEA2+31554]\n\t(No symbol) [0x00007FF608F57ED9]\n\t(No symbol) [0x00007FF608E1872A]\n\t(No symbol) [0x00007FF608E68434]\n\t(No symbol) [0x00007FF608E6853C]\n\t(No symbol) [0x00007FF608EAF6A7]\n\t(No symbol) [0x00007FF608E8D06F]\n\t(No symbol) [0x00007FF608EAC977]\n\t(No symbol) [0x00007FF608E8CDD3]\n\t(No symbol) [0x00007FF608E5A33B]\n\t(No symbol) [0x00007FF608E5AED1]\n\tGetHandleVerifier [0x00007FF6092E8B1D+3217341]\n\tGetHandleVerifier [0x00007FF609335AE3+3532675]\n\tGetHandleVerifier [0x00007FF60932B0E0+3489152]\n\tGetHandleVerifier [0x00007FF60908E776+750614]\n\t(No symbol) [0x00007FF608F6375F]\n\t(No symbol) [0x00007FF608F5EB14]\n\t(No symbol) [0x00007FF608F5ECA2]\n\t(No symbol) [0x00007FF608F4E16F]\n\tBaseThreadInitThunk [0x00007FFADD7A7374+20]\n\tRtlUserThreadStart [0x00007FFADDF1CC91+33]\n"
     ]
    }
   ],
   "source": [
    "send_offers(driver, 15, 10)"
   ]
  }
 ],
 "metadata": {
  "kernelspec": {
   "display_name": "Python 3 (ipykernel)",
   "language": "python",
   "name": "python3"
  },
  "language_info": {
   "codemirror_mode": {
    "name": "ipython",
    "version": 3
   },
   "file_extension": ".py",
   "mimetype": "text/x-python",
   "name": "python",
   "nbconvert_exporter": "python",
   "pygments_lexer": "ipython3",
   "version": "3.12.4"
  }
 },
 "nbformat": 4,
 "nbformat_minor": 5
}
