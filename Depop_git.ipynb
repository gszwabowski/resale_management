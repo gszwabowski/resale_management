{
 "cells": [
  {
   "cell_type": "code",
   "execution_count": null,
   "id": "f3a63fbc",
   "metadata": {},
   "outputs": [],
   "source": [
    "import selenium\n",
    "from selenium import webdriver\n",
    "from selenium.webdriver.common.by import By\n",
    "from selenium.webdriver.chrome.service import Service\n",
    "from selenium.webdriver.support.ui import WebDriverWait\n",
    "from selenium.webdriver.support import expected_conditions as EC\n",
    "from selenium.webdriver.common.action_chains import ActionChains\n",
    "from selenium.webdriver.chrome.options import Options \n",
    "from selenium.webdriver.common.keys import Keys\n",
    "from bs4 import BeautifulSoup\n",
    "import re\n",
    "from io import StringIO\n",
    "from bs4 import BeautifulSoup\n",
    "import contextlib\n",
    "from selenium.common.exceptions import InvalidArgumentException\n",
    "import time\n",
    "import pandas as pd\n",
    "from datetime import datetime\n",
    "pd.set_option('display.max_rows', 1200)\n",
    "\n",
    "# ignore warnings\n",
    "pd.options.mode.chained_assignment = None\n",
    "\n",
    "import undetected_chromedriver as uc\n",
    "\n",
    "from selenium import webdriver\n",
    "from selenium.webdriver.chrome.service import Service as ChromeService\n",
    "from webdriver_manager.chrome import ChromeDriverManager\n",
    "from selenium_stealth import stealth"
   ]
  },
  {
   "cell_type": "code",
   "execution_count": null,
   "id": "029cfced",
   "metadata": {
    "scrolled": true
   },
   "outputs": [],
   "source": [
    "def start_driver():\n",
    "    driver = uc.Chrome(use_subprocess=True, version_main=133)\n",
    "    driver.execute_script(\"Object.defineProperty(navigator, 'webdriver', {get: () => undefined})\")\n",
    "    driver.maximize_window()\n",
    "    return driver"
   ]
  },
  {
   "cell_type": "code",
   "execution_count": null,
   "id": "5acb6c8a",
   "metadata": {},
   "outputs": [],
   "source": [
    "# start webdriver\n",
    "driver = start_driver()"
   ]
  },
  {
   "cell_type": "markdown",
   "id": "c761af6a",
   "metadata": {},
   "source": [
    "# Log In"
   ]
  },
  {
   "cell_type": "code",
   "execution_count": null,
   "id": "bc8e466e",
   "metadata": {},
   "outputs": [],
   "source": [
    "def depop_login(driver, username, password):\n",
    "    # go to depop login page\n",
    "    driver.get('https://www.depop.com/login/')\n",
    "    \n",
    "    # click \"Accept\" cookies button if it pops up\n",
    "    try:\n",
    "        driver.find_element(By.XPATH, '/html/body/div/div/div[3]/div[2]/button[2]').click()\n",
    "    except:\n",
    "        pass\n",
    "\n",
    "    # click continue w/ email\n",
    "    try:\n",
    "        driver.find_element(By.XPATH, ('//span[contains(text(),\"Continue with email\")]')).click()\n",
    "        time.sleep(1)\n",
    "    except:\n",
    "        pass\n",
    "\n",
    "    # enter username \n",
    "    driver.find_element(By.XPATH, \"//*[contains(@name, 'email')]\").send_keys(username)\n",
    "    time.sleep(1)\n",
    "\n",
    "    # click continue\n",
    "    driver.find_element(By.XPATH, \"//*[contains(@type, 'submit')]\").click()\n",
    "    time.sleep(1)\n",
    "\n",
    "    # ask for magic email link\n",
    "    email_link = input('Enter the Depop login URL sent via email: ')\n",
    "    driver.get(email_link)"
   ]
  },
  {
   "cell_type": "code",
   "execution_count": null,
   "id": "f97874ad",
   "metadata": {
    "scrolled": true
   },
   "outputs": [],
   "source": [
    "depop_login(driver, 'username', 'password')"
   ]
  },
  {
   "cell_type": "markdown",
   "id": "2d4c9e3b",
   "metadata": {},
   "source": [
    "# Get Current Products"
   ]
  },
  {
   "cell_type": "code",
   "execution_count": null,
   "id": "c5409047",
   "metadata": {},
   "outputs": [],
   "source": [
    "# go to selling hub\n",
    "driver.get('https://www.depop.com/sellinghub/selling/')"
   ]
  },
  {
   "cell_type": "code",
   "execution_count": null,
   "id": "9d15b967",
   "metadata": {},
   "outputs": [],
   "source": [
    "# scroll down to bottom while allowing time for products to load (gets page source every loop to deal w/ depop loading error)\n",
    "def scrolltobottom(driver):\n",
    "    curr_scrollheight = driver.execute_script(\"return document.documentElement.scrollHeight\")\n",
    "    for i in range(0,100):\n",
    "        page = driver.find_element(\"tag name\",\"html\")\n",
    "        page.send_keys(Keys.END)\n",
    "        time.sleep(2)\n",
    "        new_scrollheight = driver.execute_script(\"return document.documentElement.scrollHeight\")\n",
    "        page_source = driver.page_source\n",
    "        soup = BeautifulSoup(page_source, 'lxml')\n",
    "        if new_scrollheight != curr_scrollheight:\n",
    "            curr_scrollheight = new_scrollheight\n",
    "        else:\n",
    "            return driver.page_source, BeautifulSoup(page_source, 'lxml')\n",
    "            break"
   ]
  },
  {
   "cell_type": "code",
   "execution_count": null,
   "id": "6d9efc7e-0c19-4852-9693-6498ddfafc93",
   "metadata": {},
   "outputs": [],
   "source": [
    "page_source, soup = scrolltobottom(driver)"
   ]
  },
  {
   "cell_type": "code",
   "execution_count": null,
   "id": "808be233",
   "metadata": {},
   "outputs": [],
   "source": [
    "# empty vectors for variable storage\n",
    "links = []\n",
    "product_names = []\n",
    "prices = []\n",
    "months = []\n",
    "days = []\n",
    "years = []\n",
    "dates = []\n",
    "sold_markers = []\n",
    "boost_markers = []\n",
    "discount_markers = []\n",
    "discount_prices = []\n",
    "current_discounts = []\n",
    "\n",
    "# dictionary for month string conversion\n",
    "month_dict ={'Jan':1,'Feb':2,'Mar':3,'Apr':4,'May':5,'Jun':6,'Jul':7,'Aug':8,'Sep':9,'Oct':10,'Nov':11,'Dec':12}\n",
    "\n",
    "# get product names\n",
    "name_soup = soup.find_all(\"span\",attrs={\"class\":\"_text_bevez_41 _shared_bevez_6 _normal_bevez_51 styles_description__O5n9J styles_overflowText__T0sDd\"})\n",
    "\n",
    "for tag in name_soup:\n",
    "    p_name = re.split(' - ', tag.text)[0]\n",
    "    p_name = re.split('\\n', p_name)[0]\n",
    "    # print(p_name)\n",
    "    product_names.append(p_name)\n",
    "    \n",
    "# get dates\n",
    "date_soup = soup.find_all(\"p\",attrs={\"class\":'_text_bevez_41 _shared_bevez_6 _normal_bevez_51 _caption1_bevez_55 styles_overflowText__T0sDd'})\n",
    "\n",
    "for tag in date_soup:\n",
    "    try:\n",
    "        day, month, year = list(filter(None, re.split('Listed on | ', tag.text)))\n",
    "        days.append(int(day))\n",
    "        months.append(month_dict[month])\n",
    "        years.append(int(year))\n",
    "        date = str(month_dict[month])+'-'+str(day)+'-'+str(year)\n",
    "        dates.append(date)\n",
    "        # print(date)\n",
    "    except:\n",
    "        day, month, year = list(filter(None, re.split('Last updated on | ', tag.text)))\n",
    "        days.append(int(day))\n",
    "        months.append(month_dict[month])\n",
    "        years.append(int(year))\n",
    "        date = str(month_dict[month])+'-'+str(day)+'-'+str(year)\n",
    "        dates.append(date)\n",
    "        # print(date)\n",
    "        \n",
    "# get prices\n",
    "price_soup = soup.find_all(\"div\",attrs={\"class\":'styles_priceContainer__BPqEu'})\n",
    "\n",
    "for tag in price_soup:\n",
    "    # print(tag.text)\n",
    "    if tag.text.count(\"$\") == 2:\n",
    "        # print(re.split(r'US\\$', tag.text))\n",
    "        discount_markers.append(1)\n",
    "        discount_price = float(re.split(r'US\\$', tag.text)[-1])\n",
    "        discount_prices.append(discount_price)\n",
    "        og_price = float(re.split(r'US\\$', tag.text)[1])\n",
    "        prices.append(og_price)\n",
    "        curr_discount = round(((og_price - discount_price) / og_price) * 100)\n",
    "        current_discounts.append(curr_discount)\n",
    "    else:\n",
    "        discount_markers.append(0)\n",
    "        discount_prices.append(float(re.split(r'US\\$', tag.text)[-1]))\n",
    "        prices.append(float(re.split(r'US\\$', tag.text)[-1]))\n",
    "        current_discounts.append(0)\n",
    "    \n",
    "# get product links\n",
    "link_soup = soup.find_all(\"div\",attrs={\"class\":\"styles_listingRow__ckmtm styles_listingRowCheckboxes__xdtqo\"})\n",
    "\n",
    "for tag in link_soup:\n",
    "    href_link = tag.find('a').get('href')\n",
    "    links.append('https://depop.com' + href_link)\n",
    "    if 'Sold' in tag.text:\n",
    "        sold_markers.append(1)\n",
    "    else:\n",
    "        sold_markers.append(0)\n",
    "        \n",
    "boost_soup = soup.find_all(\"div\",attrs={\"class\":\"styles_desktopInsights__XI2Vf\"})\n",
    "\n",
    "for tag in boost_soup:\n",
    "    if \"Boost to see\" in tag.text:\n",
    "        boost_markers.append(0)\n",
    "    else:\n",
    "        boost_markers.append(1)"
   ]
  },
  {
   "cell_type": "code",
   "execution_count": null,
   "id": "ea4a560c",
   "metadata": {
    "scrolled": true
   },
   "outputs": [],
   "source": [
    "for x in [product_names, links, prices, dates, sold_markers, boost_markers, discount_markers, discount_prices, current_discounts]:\n",
    "    print(len(x))"
   ]
  },
  {
   "cell_type": "code",
   "execution_count": null,
   "id": "a15baf4d",
   "metadata": {},
   "outputs": [],
   "source": [
    "# dataframe w/ prices and items\n",
    "dict = {'Item': product_names, 'Link': links, 'Price': prices, 'Discount Price' : discount_prices, 'Last Updated': dates, 'Sold' : sold_markers, 'Boosted' : boost_markers, 'Discounted' : discount_markers, 'Discount %': current_discounts} \n",
    "\n",
    "df = pd.DataFrame(dict)\n",
    "df['Last Updated'] = pd.to_datetime(df['Last Updated'], format='%m-%d-%Y')\n",
    "df['Days Since Updating'] = (datetime.today()-df['Last Updated']).dt.days\n",
    "display(df)"
   ]
  },
  {
   "cell_type": "markdown",
   "id": "c6c921ae",
   "metadata": {},
   "source": [
    "# Boost Listings"
   ]
  },
  {
   "cell_type": "code",
   "execution_count": null,
   "id": "99f98014",
   "metadata": {},
   "outputs": [],
   "source": [
    "# remove sold listings, listings posted within the last week, boosted listings\n",
    "boost_df = df.loc[(df['Sold'] == 0) & (df['Days Since Updating'] >= 7) & (df['Boosted'] == 0)].reset_index(drop=True)"
   ]
  },
  {
   "cell_type": "code",
   "execution_count": null,
   "id": "19ed4e69",
   "metadata": {
    "scrolled": true
   },
   "outputs": [],
   "source": [
    "print('Number of items to be boosted:', str(len(boost_df)))"
   ]
  },
  {
   "cell_type": "code",
   "execution_count": null,
   "id": "d6cf1610",
   "metadata": {
    "scrolled": true
   },
   "outputs": [],
   "source": [
    "# boost loop\n",
    "for i in range(0, len(boost_df)):\n",
    "    if i==0:\n",
    "        # click \"Accept\" cookies button if it pops up\n",
    "        try:\n",
    "            driver.find_element(By.XPATH, '//*[@id=\"__next\"]/div/div[3]/div[2]/button[2]').click()\n",
    "        except:\n",
    "            pass\n",
    "    item = boost_df.iloc[i,list(boost_df.columns).index('Item')]\n",
    "    link = boost_df.iloc[i,list(boost_df.columns).index('Link')]\n",
    "        \n",
    "\n",
    "    print('Item '+ str(i+1) + ' of ' + str(len(boost_df)), '('+item+')\\n')\n",
    "    driver.get(link)\n",
    "    time.sleep(1)\n",
    "    boost_element = WebDriverWait(driver, 20).until(EC.element_to_be_clickable((By.XPATH, \"//*[contains(@class, 'ButtonBoost')]\")))\n",
    "    boost_element.click()\n",
    "    confirm_element = WebDriverWait(driver, 20).until(EC.element_to_be_clickable((By.XPATH, \"//*[contains(@class, 'ConfirmAndBoost')]\")))\n",
    "    confirm_element.click()\n",
    "    time.sleep(1)\n",
    "    \n",
    "print('Done boosting listings.')"
   ]
  },
  {
   "cell_type": "markdown",
   "id": "ed5bbfcc",
   "metadata": {},
   "source": [
    "# Discount Non-Discounted Listings"
   ]
  },
  {
   "cell_type": "code",
   "execution_count": null,
   "id": "da0228b3-8655-4e18-a457-4b27719d80b9",
   "metadata": {},
   "outputs": [],
   "source": [
    " discount_amt = int(input('Enter the a whole number percent (out of 100, divisible by 5) to discount all non-discounted listings by: '))"
   ]
  },
  {
   "cell_type": "code",
   "execution_count": null,
   "id": "74e927d0",
   "metadata": {},
   "outputs": [],
   "source": [
    "# go to selling hub\n",
    "driver.get('https://www.depop.com/sellinghub/selling/')"
   ]
  },
  {
   "cell_type": "code",
   "execution_count": null,
   "id": "2ec53235",
   "metadata": {},
   "outputs": [],
   "source": [
    "# scroll down to bottom while allowing time for products to load (gets page source every loop to deal w/ depop loading error)\n",
    "curr_scrollheight = driver.execute_script(\"return document.documentElement.scrollHeight\")\n",
    "for i in range(0,100):\n",
    "    page = driver.find_element(\"tag name\",\"html\")\n",
    "    page.send_keys(Keys.END)\n",
    "    time.sleep(2)\n",
    "    new_scrollheight = driver.execute_script(\"return document.documentElement.scrollHeight\")\n",
    "    page_source = driver.page_source\n",
    "    soup = BeautifulSoup(page_source, 'lxml')\n",
    "    if new_scrollheight != curr_scrollheight:\n",
    "        curr_scrollheight = new_scrollheight\n",
    "    else:\n",
    "        break"
   ]
  },
  {
   "cell_type": "code",
   "execution_count": null,
   "id": "15c9e055",
   "metadata": {},
   "outputs": [],
   "source": [
    "# scroll back up\n",
    "page = driver.find_element(\"tag name\",\"html\")\n",
    "page.send_keys(Keys.HOME)"
   ]
  },
  {
   "cell_type": "code",
   "execution_count": null,
   "id": "a2ed6f7d",
   "metadata": {},
   "outputs": [],
   "source": [
    "checkboxes = driver.find_elements(By.XPATH, (\"//input[contains(@class, '_checkbox')]\"))[1:]"
   ]
  },
  {
   "cell_type": "code",
   "execution_count": null,
   "id": "c571418a-2cc1-44b5-8933-dd21cc70ca25",
   "metadata": {},
   "outputs": [],
   "source": [
    "len(checkboxes)"
   ]
  },
  {
   "cell_type": "code",
   "execution_count": null,
   "id": "c5de89e3",
   "metadata": {},
   "outputs": [],
   "source": [
    "df['Checkbox'] = checkboxes\n",
    "df['Checkbox_x'] = [x.location['x'] for x in checkboxes]\n",
    "df['Checkbox_y'] = [x.location['y'] for x in checkboxes]"
   ]
  },
  {
   "cell_type": "code",
   "execution_count": null,
   "id": "2aa07309",
   "metadata": {},
   "outputs": [],
   "source": [
    "# remove sold listings, listings posted within the last week, discounted listings\n",
    "discount_df = df.loc[(df['Sold'] == 0) & (df['Days Since Updating'] >= 7) & (df['Discounted'] == 0)].reset_index(drop=True)"
   ]
  },
  {
   "cell_type": "code",
   "execution_count": null,
   "id": "2583b2c0",
   "metadata": {
    "scrolled": true
   },
   "outputs": [],
   "source": [
    "display(discount_df)"
   ]
  },
  {
   "cell_type": "code",
   "execution_count": null,
   "id": "335a406f-367d-4da6-83ea-3da0040bf005",
   "metadata": {},
   "outputs": [],
   "source": [
    "tick_dict = {\n",
    "    5:0,\n",
    "    10:1,\n",
    "    15:2,\n",
    "    20:3,\n",
    "    25:4,\n",
    "    30:5,\n",
    "    35:6,\n",
    "    40:7,\n",
    "    45:8,\n",
    "    50:9,\n",
    "    55:10,\n",
    "    60:11,\n",
    "    65:12,\n",
    "    70:13,\n",
    "    75:14,\n",
    "    80:15,\n",
    "    85:16,\n",
    "    90:17,\n",
    "    95:18,\n",
    "}"
   ]
  },
  {
   "cell_type": "code",
   "execution_count": null,
   "id": "d656ef13",
   "metadata": {
    "scrolled": true
   },
   "outputs": [],
   "source": [
    "# loop through discount_df checkboxes and click them\n",
    "itemset = 1\n",
    "for i in range(len(discount_df)):\n",
    "    # for first item\n",
    "    if i==0:\n",
    "        checkbox = discount_df.at[i, 'Checkbox']\n",
    "        scroll_by_coord = 'window.scrollTo(%s,%s);' % (\n",
    "                checkbox.location['x'],\n",
    "                checkbox.location['y']\n",
    "            )\n",
    "        scroll_nav_out_of_way = 'window.scrollBy(0, -120);'\n",
    "        driver.execute_script(scroll_by_coord)\n",
    "        driver.execute_script(scroll_nav_out_of_way)\n",
    "        print('scrolled to and clicked checkbox for', discount_df.at[i, 'Item'], '(Item ' + str(i+1) + ' of ' + str(len(discount_df)) + ')' )\n",
    "        driver.execute_script(\"arguments[0].click();\", checkbox)\n",
    "    \n",
    "    # if item number is not divisible by 10 and not the last item, click checkbox for discounting\n",
    "    elif i%10 != 0 and i+1!=len(discount_df):\n",
    "        checkbox = discount_df.at[i, 'Checkbox']\n",
    "        scroll_by_coord = 'window.scrollTo(%s,%s);' % (\n",
    "                checkbox.location['x'],\n",
    "                checkbox.location['y']\n",
    "            )\n",
    "        scroll_nav_out_of_way = 'window.scrollBy(0, -120);'\n",
    "        driver.execute_script(scroll_by_coord)\n",
    "        driver.execute_script(scroll_nav_out_of_way)\n",
    "        print('scrolled to and clicked checkbox for', discount_df.at[i, 'Item'], '(Item ' + str(i+1) + ' of ' + str(len(discount_df)) + ')' )\n",
    "        driver.execute_script(\"arguments[0].click();\", checkbox)\n",
    "    \n",
    "    # if item number IS divisible by 10 and not the last item, click checkbox for discounting, discount, reset selected checkboxes    \n",
    "    elif i%10 == 0 and i+1!=len(discount_df):\n",
    "        checkbox = discount_df.at[i, 'Checkbox']\n",
    "        scroll_by_coord = 'window.scrollTo(%s,%s);' % (\n",
    "                checkbox.location['x'],\n",
    "                checkbox.location['y']\n",
    "            )\n",
    "        scroll_nav_out_of_way = 'window.scrollBy(0, -120);'\n",
    "        driver.execute_script(scroll_by_coord)\n",
    "        driver.execute_script(scroll_nav_out_of_way)\n",
    "        print('scrolled to and clicked checkbox for', discount_df.at[i, 'Item'], '(Item ' + str(i+1) + ' of ' + str(len(discount_df)) + ')' )\n",
    "        driver.execute_script(\"arguments[0].click();\", checkbox)\n",
    "        \n",
    "        # after 10 listings are selected, discount then clear selections\n",
    "        \n",
    "        # click discount button\n",
    "        driver.find_element(By.XPATH, ('//button[span=\"Discount\"]')).click()\n",
    "\n",
    "        # get slider element\n",
    "        time.sleep(5)\n",
    "        slider = WebDriverWait(driver, 10).until(EC.element_to_be_clickable((By.XPATH, ('//input[@list=\"ticks\"]'))))\n",
    "\n",
    "        # move slider\n",
    "        for i in range(tick_dict[discount_amt]):\n",
    "            slider.send_keys(Keys.RIGHT)\n",
    "    \n",
    "        # click confirm\n",
    "        time.sleep(1)\n",
    "        driver.find_element(By.XPATH, ('//button[span=\"Confirm\"]')).click()\n",
    "\n",
    "        # CLICK x\n",
    "        time.sleep(2)\n",
    "        driver.find_element(By.CSS_SELECTOR, \"[aria-label='Close']\").click()\n",
    "\n",
    "        print('Discounted item set ' + str(itemset))\n",
    "        itemset+=1\n",
    "        \n",
    "        # scroll back up\n",
    "        time.sleep(3)\n",
    "        page.send_keys(Keys.HOME)\n",
    "    \n",
    "    # handles last item (since the last item number is not likely to be evenly divisible by 10)\n",
    "    else:\n",
    "        checkbox = discount_df.at[i, 'Checkbox']\n",
    "        scroll_by_coord = 'window.scrollTo(%s,%s);' % (\n",
    "                checkbox.location['x'],\n",
    "                checkbox.location['y']\n",
    "            )\n",
    "        scroll_nav_out_of_way = 'window.scrollBy(0, -120);'\n",
    "        driver.execute_script(scroll_by_coord)\n",
    "        driver.execute_script(scroll_nav_out_of_way)\n",
    "        print('scrolled to and clicked checkbox for', discount_df.at[i, 'Item'], '(Item ' + str(i+1) + ' of ' + str(len(discount_df)) + ')' )\n",
    "        driver.execute_script(\"arguments[0].click();\", checkbox)\n",
    "        \n",
    "        # click discount button\n",
    "        driver.find_element(By.XPATH, ('//button[span=\"Discount\"]')).click()\n",
    "\n",
    "        # get slider element\n",
    "        time.sleep(5)\n",
    "        slider = WebDriverWait(driver, 10).until(EC.element_to_be_clickable((By.XPATH, ('//input[@list=\"ticks\"]'))))\n",
    "\n",
    "        # move slider\n",
    "        for i in range(tick_dict[discount_amt]):\n",
    "            slider.send_keys(Keys.RIGHT)\n",
    "    \n",
    "        # click confirm\n",
    "        time.sleep(1)\n",
    "        driver.find_element(By.XPATH, ('//button[span=\"Confirm\"]')).click()\n",
    "\n",
    "        # CLICK x\n",
    "        time.sleep(2)\n",
    "        driver.find_element(By.CSS_SELECTOR, \"[aria-label='Close']\").click()\n"
   ]
  },
  {
   "cell_type": "markdown",
   "id": "fc4e5ac4",
   "metadata": {},
   "source": [
    "# Discount Everything That Wasn't Just Discounted by 5% More"
   ]
  },
  {
   "cell_type": "code",
   "execution_count": null,
   "id": "b094b849-c3bb-4e04-8338-f10357f01e13",
   "metadata": {},
   "outputs": [],
   "source": [
    "tick_dict = {\n",
    "    5:0,\n",
    "    10:1,\n",
    "    15:2,\n",
    "    20:3,\n",
    "    25:4,\n",
    "    30:5,\n",
    "    35:6,\n",
    "    40:7,\n",
    "    45:8,\n",
    "    50:9,\n",
    "    55:10,\n",
    "    60:11,\n",
    "    65:12,\n",
    "    70:13,\n",
    "    75:14,\n",
    "    80:15,\n",
    "    85:16,\n",
    "    90:17,\n",
    "    95:18,\n",
    "}"
   ]
  },
  {
   "cell_type": "code",
   "execution_count": null,
   "id": "f58f5b35",
   "metadata": {},
   "outputs": [],
   "source": [
    "# create another dataframe that contains items that weren't discounted in the last step\n",
    "discount_df2 = (df[df.merge(discount_df[['Item']], indicator=True, how='left')['_merge'].eq('left_only')].reset_index(drop=True))"
   ]
  },
  {
   "cell_type": "code",
   "execution_count": null,
   "id": "32563d25-a4b3-44b0-b486-d6d749a14750",
   "metadata": {},
   "outputs": [],
   "source": [
    "discount_df2 = discount_df2.loc[(discount_df2['Sold'] == 0) & (discount_df2['Days Since Updating'] >= 7)].reset_index(drop=True)"
   ]
  },
  {
   "cell_type": "code",
   "execution_count": null,
   "id": "1081c047-d7bf-47bf-88ab-0436fb46a7dc",
   "metadata": {},
   "outputs": [],
   "source": [
    "discount_df2"
   ]
  },
  {
   "cell_type": "code",
   "execution_count": null,
   "id": "2d1b0fc5",
   "metadata": {},
   "outputs": [],
   "source": [
    "# scroll back up\n",
    "page = driver.find_element(\"tag name\",\"html\")\n",
    "page.send_keys(Keys.HOME)"
   ]
  },
  {
   "cell_type": "code",
   "execution_count": null,
   "id": "2cd4171f",
   "metadata": {},
   "outputs": [],
   "source": [
    "# select all and then deselect all to clear selections\n",
    "driver.find_elements(By.XPATH, (\"//input[contains(@class, '_checkbox')]\"))[0].click()\n",
    "time.sleep(5)\n",
    "driver.find_element(By.XPATH, (\"//*[contains(@class, '_tickIcon')]\")).click()"
   ]
  },
  {
   "cell_type": "code",
   "execution_count": null,
   "id": "b5b75093-2be4-42a0-b497-8f8d267631b7",
   "metadata": {},
   "outputs": [],
   "source": [
    "discount_df2"
   ]
  },
  {
   "cell_type": "code",
   "execution_count": null,
   "id": "04d9eb68-c6ce-4036-a52f-8c2234b180f8",
   "metadata": {},
   "outputs": [],
   "source": [
    "def discount_everything(df):\n",
    "    df_length = len(df)\n",
    "    dataframe = df.copy()\n",
    "    i = 0\n",
    "    j = 0\n",
    "    while True:\n",
    "        try:\n",
    "            driver.get('https://www.depop.com/sellinghub/selling/')\n",
    "            page_source, soup = scrolltobottom(driver)\n",
    "            page = driver.find_element(\"tag name\",\"html\")\n",
    "            page.send_keys(Keys.HOME)\n",
    "            listingRows = driver.find_elements(By.XPATH, (\"//div[contains(@class, 'listingRow')]\"))\n",
    "            for itemname in dataframe['Item']:\n",
    "                i+=1\n",
    "                # get row for current item in loop\n",
    "                for row in listingRows:\n",
    "                    if itemname in row.text:\n",
    "                        current_row = row\n",
    "                # get checkbox to click later\n",
    "                checkbox = current_row.children()[0]\n",
    "                # determine if price is already discounted\n",
    "                # if item has been discounted\n",
    "                if current_row.text.count(\"$\") == 2:\n",
    "                    curr_price = float(re.split(r'US\\$|\\n', current_row.find_element(By.CSS_SELECTOR, \"[class='styles_priceContainer__BPqEu']\").text)[-1])\n",
    "                    og_price = float(re.split(r'US\\$|\\n', current_row.find_element(By.CSS_SELECTOR, \"[class='styles_priceContainer__BPqEu']\").text)[-3])\n",
    "                # if item has not been discounted\n",
    "                else:\n",
    "                    curr_price = float(re.split(r'US\\$|\\n', current_row.find_element(By.CSS_SELECTOR, \"[class='styles_priceContainer__BPqEu']\").text)[-1])\n",
    "                    og_price = float(re.split(r'US\\$|\\n', current_row.find_element(By.CSS_SELECTOR, \"[class='styles_priceContainer__BPqEu']\").text)[-1])\n",
    "                # calculate current discount\n",
    "                curr_discount = round(((og_price - curr_price) / og_price) * 100)\n",
    "                # do some scrolling, click checkbox\n",
    "                scroll_by_coord = 'window.scrollTo(%s,%s);' % (\n",
    "                        checkbox.location['x'],\n",
    "                        checkbox.location['y']\n",
    "                    )\n",
    "                scroll_nav_out_of_way = 'window.scrollBy(0, -120);'\n",
    "                driver.execute_script(scroll_by_coord)\n",
    "                driver.execute_script(scroll_nav_out_of_way)\n",
    "                print('Scrolled to and clicked checkbox for', itemname, '(Item', str(i), 'of', str(df_length) + ')')\n",
    "                driver.execute_script(\"arguments[0].click();\", checkbox)\n",
    "                # click discount button\n",
    "                driver.find_element(By.XPATH, ('//button[span=\"Discount\"]')).click()\n",
    "                \n",
    "                # get slider element after sleeping\n",
    "                time.sleep(2.5)\n",
    "                slider = WebDriverWait(driver, 10).until(EC.element_to_be_clickable((By.XPATH, ('//input[@list=\"ticks\"]'))))\n",
    "                slider_value = int(slider.get_attribute('value'))\n",
    "                \n",
    "                # if the item has already been discounted\n",
    "                if slider_value > 5 or curr_discount == 5:\n",
    "                    # move slider to the right once, increasing the discount by 5%\n",
    "                    slider.send_keys(Keys.RIGHT)\n",
    "                    time.sleep(2.5)\n",
    "                    # get new slider value\n",
    "                    new_slider_value = int(slider.get_attribute('value'))\n",
    "                    # click confirm\n",
    "                    driver.find_element(By.XPATH, ('//button[span=\"Confirm\"]')).click()\n",
    "                    # wait for discount to process\n",
    "                    time.sleep(2.5)\n",
    "                    # close discount window\n",
    "                    driver.find_element(By.CSS_SELECTOR, \"[aria-label='Close']\").click()\n",
    "                    # print discount message\n",
    "                    print('\\tChanged discount percentage  of', itemname, 'from ' + str(slider_value) + ' to ' + str(new_slider_value))\n",
    "                    \n",
    "                # if the item has not been discounted. just need to click confirm to set a discount of 5%\n",
    "                else:\n",
    "                    # click confirm\n",
    "                    driver.find_element(By.XPATH, ('//button[span=\"Confirm\"]')).click()\n",
    "                    # wait for discount to process\n",
    "                    time.sleep(2.5)\n",
    "                    # close discount window\n",
    "                    driver.find_element(By.CSS_SELECTOR, \"[aria-label='Close']\").click()\n",
    "                    # print discount message\n",
    "                    print('\\tChanged discount percentage  of', itemname, 'from ' + str(0) + ' to ' + str(slider_value))\n",
    "                        \n",
    "                # scroll back up\n",
    "                time.sleep(3)\n",
    "                page = driver.find_element(\"tag name\",\"html\")\n",
    "                page.send_keys(Keys.HOME)\n",
    "\n",
    "                # remove discounted item from copied dataframe\n",
    "                dataframe = dataframe.tail(-1)\n",
    "        except Exception as e:\n",
    "            j+=1\n",
    "            print(f\"An error occurred: {e}. Restarting loop.\")\n",
    "            driver.get_screenshot_as_file('depop_exception_' + dt.date.today().strftime('%Y-%m-%d') + '.png')\n",
    "            if j == 10:\n",
    "                break\n",
    "        else:\n",
    "            break"
   ]
  },
  {
   "cell_type": "code",
   "execution_count": null,
   "id": "116f9259",
   "metadata": {
    "scrolled": true
   },
   "outputs": [],
   "source": [
    "discount_everything(discount_df2)"
   ]
  }
 ],
 "metadata": {
  "kernelspec": {
   "display_name": "Python 3 (ipykernel)",
   "language": "python",
   "name": "python3"
  },
  "language_info": {
   "codemirror_mode": {
    "name": "ipython",
    "version": 3
   },
   "file_extension": ".py",
   "mimetype": "text/x-python",
   "name": "python",
   "nbconvert_exporter": "python",
   "pygments_lexer": "ipython3",
   "version": "3.12.4"
  }
 },
 "nbformat": 4,
 "nbformat_minor": 5
}
